{
 "cells": [
  {
   "cell_type": "markdown",
   "id": "8df2b6a3-ceed-40ca-9908-a92e55551a38",
   "metadata": {},
   "source": [
    "## Introduction"
   ]
  },
  {
   "cell_type": "markdown",
   "id": "8096b98a",
   "metadata": {},
   "source": [
    "Here we are giving a brief introduction to rasterizing shapefiles by rasterizing country ids into a given grid."
   ]
  },
  {
   "cell_type": "code",
   "execution_count": null,
   "id": "6453f03a",
   "metadata": {},
   "outputs": [],
   "source": [
    "import xarray as xr\n",
    "from descartes import PolygonPatch\n",
    "import matplotlib.pyplot as plt\n",
    "from fiona import collection\n",
    "\n",
    "import ptolemy as pt"
   ]
  },
  {
   "cell_type": "markdown",
   "id": "7c6caeaa",
   "metadata": {},
   "source": [
    "## Data\n",
    "\n",
    "We generally begin with gridded data that we want our future raster to look like. Let's take an example from `xarray` looking at some data over North America."
   ]
  },
  {
   "cell_type": "code",
   "execution_count": null,
   "id": "c2b6234c",
   "metadata": {},
   "outputs": [],
   "source": [
    "ds = xr.tutorial.load_dataset(\"air_temperature\")\n",
    "ds['lon'] = ds.lon - 360 # change from degrees_east to centered at prime meridian\n",
    "grid = ds.air.isel(time=1)\n",
    "grid.plot()"
   ]
  },
  {
   "cell_type": "markdown",
   "id": "94c0c69e",
   "metadata": {},
   "source": [
    "We can then pull out a shapefile dataset for country borders"
   ]
  },
  {
   "cell_type": "code",
   "execution_count": null,
   "id": "68bdaf20",
   "metadata": {},
   "outputs": [],
   "source": [
    "url = \"https://d2ad6b4ur7yvpq.cloudfront.net/naturalearth-3.3.0/ne_110m_admin_0_countries.geojson\""
   ]
  },
  {
   "cell_type": "code",
   "execution_count": null,
   "id": "535869b9",
   "metadata": {},
   "outputs": [],
   "source": [
    "# let's take a look\n",
    "BLUE = '#6699cc'\n",
    "fig, ax = plt.subplots()\n",
    "with collection(url, \"r\") as inp:\n",
    "    for f in inp:\n",
    "        patch = PolygonPatch(f['geometry'], fc=BLUE, ec=BLUE, alpha=0.5)\n",
    "        ax.add_patch(patch)\n",
    "ax.set_xlim(-180, 180)\n",
    "ax.set_ylim(-90, 90)"
   ]
  },
  {
   "cell_type": "markdown",
   "id": "5a3a49cd",
   "metadata": {},
   "source": [
    "## Rasterize with Ptolemy\n",
    "\n",
    "The basic steps are to great a `Rasterize` object, tell it what shapefile you want to rasterize, and what strategy you want to use to do the rasterization.\n",
    "\n",
    "Because `ptolemy` is built on excellent packages like `rasterio` which link into `GDAL`, we get some basic rasterization approaches for 'free' - these are basically just pass throughs to the [`gdal_rasterize`](https://gdal.org/programs/gdal_rasterize.html) functions and include\n",
    "\n",
    "- `centroid`: each pixel is assigned the shape element which overlaps its center\n",
    "- `all_touched`: all pixels touched by shape elements are assigned those elements, depends on the order shape elements are assessed"
   ]
  },
  {
   "cell_type": "code",
   "execution_count": null,
   "id": "2f59ba32",
   "metadata": {},
   "outputs": [],
   "source": [
    "r = pt.Rasterize(like=grid)\n",
    "r.read_shpf(url, idxkey=\"iso_a3\")\n",
    "idxr_c = r.rasterize(strategy=\"centroid\", verbose=True)\n",
    "idxr_c.plot() # idxr_c is an xr.DataArray"
   ]
  },
  {
   "cell_type": "markdown",
   "id": "c28cc819",
   "metadata": {},
   "source": [
    "We can also use an 'all-touched' approach"
   ]
  },
  {
   "cell_type": "code",
   "execution_count": null,
   "id": "d7584dec",
   "metadata": {},
   "outputs": [],
   "source": [
    "r = pt.Rasterize(like=grid)\n",
    "r.read_shpf(url, idxkey=\"iso_a3\")\n",
    "idxr_at = r.rasterize(strategy=\"all_touched\", verbose=True)\n",
    "idxr_at.plot()"
   ]
  },
  {
   "cell_type": "markdown",
   "id": "5d093e57",
   "metadata": {},
   "source": [
    "and see the differences"
   ]
  },
  {
   "cell_type": "code",
   "execution_count": null,
   "id": "d31412c0",
   "metadata": {},
   "outputs": [],
   "source": [
    "(idxr_c - idxr_at).plot(cmap='viridis_r')"
   ]
  },
  {
   "cell_type": "markdown",
   "id": "05d98a55",
   "metadata": {},
   "source": [
    "## Advanced Rasterization Approaches\n",
    "\n",
    "\n",
    "### Hybrid\n",
    "\n",
    "The `hybrid` approach tries to get the best of both worlds from `centroid` and `all_touched`. It performs both rasterizations, preferring centroids, but then filling in missing cells from the all touched approach.\n",
    "\n",
    "By implementation, it does the following\n",
    "\n",
    "```\n",
    "mask_hybrid = mask_centroid + np.where(mask_centroid == 0, mask_all_touched, 0)\n",
    "```"
   ]
  },
  {
   "cell_type": "code",
   "execution_count": null,
   "id": "7000d0af",
   "metadata": {},
   "outputs": [],
   "source": [
    "r = pt.Rasterize(like=grid)\n",
    "r.read_shpf(url, idxkey=\"iso_a3\")\n",
    "idxr_h = r.rasterize(strategy=\"hybrid\", verbose=True)\n",
    "idxr_h.plot()"
   ]
  },
  {
   "cell_type": "code",
   "execution_count": null,
   "id": "942da4c6",
   "metadata": {},
   "outputs": [],
   "source": [
    "(idxr_h - idxr_at).plot(cmap='viridis_r')"
   ]
  },
  {
   "cell_type": "code",
   "execution_count": null,
   "id": "ec80c19f",
   "metadata": {},
   "outputs": [],
   "source": [
    "(idxr_h - idxr_c).plot()"
   ]
  },
  {
   "cell_type": "markdown",
   "id": "eb20f0e9",
   "metadata": {},
   "source": [
    "### Majority\n",
    "\n",
    "Sometimes one or more shapes overlap into the same grid cell. `ptolemy` offers methods to calculate which shape has the largest proportion of the cell and assign the cell that shape value. Notice in the below map that the country borders are 'clean'."
   ]
  },
  {
   "cell_type": "code",
   "execution_count": null,
   "id": "8ab0d768",
   "metadata": {},
   "outputs": [],
   "source": [
    "r = pt.Rasterize(like=grid)\n",
    "r.read_shpf(url, idxkey=\"iso_a3\")\n",
    "idxr_m = r.rasterize(strategy=\"majority\", verbose=True)\n",
    "idxr_m.plot()"
   ]
  },
  {
   "cell_type": "code",
   "execution_count": null,
   "id": "5cb5e8d8",
   "metadata": {},
   "outputs": [],
   "source": [
    "(idxr_m - idxr_h).plot(cmap='viridis_r')"
   ]
  },
  {
   "cell_type": "markdown",
   "id": "e1e109d1",
   "metadata": {},
   "source": [
    "It can be the case that empty area takes up the most space of a cell, but we still want to assign that to a shape with data. We have a method for that!"
   ]
  },
  {
   "cell_type": "code",
   "execution_count": null,
   "id": "06729c53",
   "metadata": {},
   "outputs": [],
   "source": [
    "r = pt.Rasterize(like=grid)\n",
    "r.read_shpf(url, idxkey=\"iso_a3\")\n",
    "idxr_m_ignore = r.rasterize(strategy=\"majority_ignore_nodata\", verbose=True)\n",
    "idxr_m_ignore.plot()"
   ]
  },
  {
   "cell_type": "code",
   "execution_count": null,
   "id": "59b5c496",
   "metadata": {},
   "outputs": [],
   "source": [
    "(idxr_m_ignore - idxr_m).plot(cmap='viridis_r')"
   ]
  },
  {
   "cell_type": "markdown",
   "id": "cc8cc780",
   "metadata": {},
   "source": [
    "### Percent of area rasters\n",
    "\n",
    "The final approach we have is to simply tell you the fraction of area in each grid cell taken up by a shape as rasterized. This produces a much larger array, since it includes a new dimension with size `N_shapes`."
   ]
  },
  {
   "cell_type": "code",
   "execution_count": null,
   "id": "7c883844",
   "metadata": {},
   "outputs": [],
   "source": [
    "r = pt.Rasterize(like=grid)\n",
    "r.read_shpf(url, idxkey=\"iso_a3\")\n",
    "idxr_w = r.rasterize(strategy=\"weighted\")"
   ]
  },
  {
   "cell_type": "code",
   "execution_count": null,
   "id": "13185131",
   "metadata": {},
   "outputs": [],
   "source": [
    "idxr_w.sel(iso_a3='USA').plot()"
   ]
  },
  {
   "cell_type": "code",
   "execution_count": null,
   "id": "83f96b2c",
   "metadata": {},
   "outputs": [],
   "source": [
    "idxr_w.sel(iso_a3='MEX').plot()"
   ]
  }
 ],
 "metadata": {
  "kernelspec": {
   "display_name": "Python 3 (ipykernel)",
   "language": "python",
   "name": "python3"
  },
  "language_info": {
   "codemirror_mode": {
    "name": "ipython",
    "version": 3
   },
   "file_extension": ".py",
   "mimetype": "text/x-python",
   "name": "python",
   "nbconvert_exporter": "python",
   "pygments_lexer": "ipython3",
   "version": "3.10.9"
  },
  "vscode": {
   "interpreter": {
    "hash": "732ee3529802bbe1f666a01ab0e9ab3b4d171af6c336b5420cf46105d49163f8"
   }
  }
 },
 "nbformat": 4,
 "nbformat_minor": 5
}
